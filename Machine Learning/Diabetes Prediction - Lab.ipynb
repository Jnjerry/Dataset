{
 "cells": [
  {
   "cell_type": "markdown",
   "id": "aa87559b",
   "metadata": {},
   "source": [
    "### 1. Import Pandas Library"
   ]
  },
  {
   "cell_type": "markdown",
   "id": "4e678e3d",
   "metadata": {},
   "source": [
    "### 2. Load the diabetes dataset \n",
    "---https://github.com/Jnjerry/Dataset/blob/main/Machine%20Learning/diabetes.csv"
   ]
  },
  {
   "cell_type": "markdown",
   "id": "53d70c16",
   "metadata": {},
   "source": [
    "### 3.Using pandas function .shape check the number of rows and columns"
   ]
  },
  {
   "cell_type": "markdown",
   "id": "fa67aa86",
   "metadata": {},
   "source": [
    "### 4. Using pandas function .info check the datatypes if correct"
   ]
  },
  {
   "cell_type": "markdown",
   "id": "851db0ea",
   "metadata": {},
   "source": [
    "### 5. Problem Statement\n",
    "\n",
    "- Build a diabetes prediction model"
   ]
  },
  {
   "cell_type": "markdown",
   "id": "fdd56cf7",
   "metadata": {},
   "source": [
    "### 6. What is our target variable? Explain"
   ]
  },
  {
   "cell_type": "markdown",
   "id": "e607dc56",
   "metadata": {},
   "source": [
    "### 7. What are our independent variables? Explain"
   ]
  },
  {
   "cell_type": "markdown",
   "id": "2071dc8a",
   "metadata": {},
   "source": [
    "### 8. Do we need to perform feature encoding? If yes explain why and write the code. If no, explain why"
   ]
  },
  {
   "cell_type": "markdown",
   "id": "762b1d62",
   "metadata": {},
   "source": [
    "### 9. Define Dependent and Independent Features X and y"
   ]
  },
  {
   "cell_type": "markdown",
   "id": "49e2c6d3",
   "metadata": {},
   "source": [
    "### 10. Why do we need to balance a dataset in machine learning"
   ]
  },
  {
   "cell_type": "markdown",
   "id": "0704b7ff",
   "metadata": {},
   "source": [
    "### 11. Using SMOTE technique, balance our dataset"
   ]
  },
  {
   "cell_type": "markdown",
   "id": "b5fc532e",
   "metadata": {},
   "source": [
    "### 12. Why do we split datasets into train and test in machine learning?"
   ]
  },
  {
   "cell_type": "markdown",
   "id": "5d0b006b",
   "metadata": {},
   "source": [
    "### 13. Split the dataset into train and test. Test size should be 20%"
   ]
  },
  {
   "cell_type": "markdown",
   "id": "4e115fed",
   "metadata": {},
   "source": [
    "### 14.Why do we need to standardize a dataset?"
   ]
  },
  {
   "cell_type": "markdown",
   "id": "b16578dd",
   "metadata": {},
   "source": [
    "### 15. Do we need to standardize our dataset? If yes, write the code to standardize it"
   ]
  },
  {
   "cell_type": "markdown",
   "id": "4f643722",
   "metadata": {},
   "source": [
    "### 16. Import a decision tree model package"
   ]
  },
  {
   "cell_type": "markdown",
   "id": "ef8348b5",
   "metadata": {},
   "source": [
    "### 17. Using the decision tree module, fit the train dataset"
   ]
  },
  {
   "cell_type": "markdown",
   "id": "6c0d5b1a",
   "metadata": {},
   "source": [
    "### 18.Predict the model"
   ]
  },
  {
   "cell_type": "code",
   "execution_count": null,
   "id": "50b2721f",
   "metadata": {},
   "outputs": [],
   "source": []
  }
 ],
 "metadata": {
  "kernelspec": {
   "display_name": "Python 3 (ipykernel)",
   "language": "python",
   "name": "python3"
  },
  "language_info": {
   "codemirror_mode": {
    "name": "ipython",
    "version": 3
   },
   "file_extension": ".py",
   "mimetype": "text/x-python",
   "name": "python",
   "nbconvert_exporter": "python",
   "pygments_lexer": "ipython3",
   "version": "3.10.5"
  }
 },
 "nbformat": 4,
 "nbformat_minor": 5
}
